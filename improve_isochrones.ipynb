{
 "cells": [
  {
   "cell_type": "code",
   "execution_count": 1,
   "metadata": {},
   "outputs": [
    {
     "name": "stderr",
     "output_type": "stream",
     "text": [
      "c:\\Users\\Compumar\\Documents\\DESA\\GIS_NetworkAn\\envNetworkAnalysis\\Lib\\site-packages\\tqdm\\auto.py:21: TqdmWarning: IProgress not found. Please update jupyter and ipywidgets. See https://ipywidgets.readthedocs.io/en/stable/user_install.html\n",
      "  from .autonotebook import tqdm as notebook_tqdm\n"
     ]
    }
   ],
   "source": [
    "import pandas as pd\n",
    "import geopandas as gpd\n",
    "import networkx as nx\n",
    "\n",
    "from netana.graph_manager.network import create_gdf_network, split_intersecting_lines\n",
    "from netana.graph_manager.graph_creation import graph_from_gdf"
   ]
  },
  {
   "cell_type": "markdown",
   "metadata": {},
   "source": [
    "# LOAD DATA"
   ]
  },
  {
   "cell_type": "code",
   "execution_count": 2,
   "metadata": {},
   "outputs": [
    {
     "data": {
      "text/html": [
       "<div>\n",
       "<style scoped>\n",
       "    .dataframe tbody tr th:only-of-type {\n",
       "        vertical-align: middle;\n",
       "    }\n",
       "\n",
       "    .dataframe tbody tr th {\n",
       "        vertical-align: top;\n",
       "    }\n",
       "\n",
       "    .dataframe thead th {\n",
       "        text-align: right;\n",
       "    }\n",
       "</style>\n",
       "<table border=\"1\" class=\"dataframe\">\n",
       "  <thead>\n",
       "    <tr style=\"text-align: right;\">\n",
       "      <th></th>\n",
       "      <th>SUPERFICIE</th>\n",
       "      <th>DISTRITO</th>\n",
       "      <th>geometry</th>\n",
       "    </tr>\n",
       "  </thead>\n",
       "  <tbody>\n",
       "    <tr>\n",
       "      <th>0</th>\n",
       "      <td>327</td>\n",
       "      <td>LA MATANZA</td>\n",
       "      <td>POLYGON ((-58.55620 -34.63474, -58.55573 -34.6...</td>\n",
       "    </tr>\n",
       "  </tbody>\n",
       "</table>\n",
       "</div>"
      ],
      "text/plain": [
       "   SUPERFICIE    DISTRITO                                           geometry\n",
       "0         327  LA MATANZA  POLYGON ((-58.55620 -34.63474, -58.55573 -34.6..."
      ]
     },
     "execution_count": 2,
     "metadata": {},
     "output_type": "execute_result"
    }
   ],
   "source": [
    "# Partido de La Matanza\n",
    "gdf_mask_LA_MATANZA = gpd.read_file(\"./output/LIMITE_POLITICO.shp\", where=\"DISTRITO='LA MATANZA'\")\n",
    "gdf_mask_LA_MATANZA"
   ]
  },
  {
   "cell_type": "markdown",
   "metadata": {},
   "source": [
    "### Create streets graph"
   ]
  },
  {
   "cell_type": "code",
   "execution_count": 3,
   "metadata": {},
   "outputs": [
    {
     "name": "stderr",
     "output_type": "stream",
     "text": [
      "C:\\Users\\Compumar\\AppData\\Local\\Temp\\ipykernel_3180\\3132287212.py:3: UserWarning: CRS mismatch between the CRS of left geometries and the CRS of right geometries.\n",
      "Use `to_crs()` to reproject one of the input geometries to match the CRS of the other.\n",
      "\n",
      "Left CRS: EPSG:4326\n",
      "Right CRS: GEOGCS[\"WGS 84\",DATUM[\"WGS_1984\",SPHEROID[\"WGS 84\" ...\n",
      "\n",
      "  gdf_streets = gpd.clip(gdf_streets, gdf_mask_LA_MATANZA)\n"
     ]
    }
   ],
   "source": [
    "# street layer\n",
    "gdf_streets = gpd.read_file(\"./output/Calles_topo_timetravel.shp\", mask=gdf_mask_LA_MATANZA)\n",
    "gdf_streets = gpd.clip(gdf_streets, gdf_mask_LA_MATANZA)"
   ]
  },
  {
   "cell_type": "code",
   "execution_count": 4,
   "metadata": {},
   "outputs": [
    {
     "data": {
      "text/html": [
       "<div>\n",
       "<style scoped>\n",
       "    .dataframe tbody tr th:only-of-type {\n",
       "        vertical-align: middle;\n",
       "    }\n",
       "\n",
       "    .dataframe tbody tr th {\n",
       "        vertical-align: top;\n",
       "    }\n",
       "\n",
       "    .dataframe thead th {\n",
       "        text-align: right;\n",
       "    }\n",
       "</style>\n",
       "<table border=\"1\" class=\"dataframe\">\n",
       "  <thead>\n",
       "    <tr style=\"text-align: right;\">\n",
       "      <th></th>\n",
       "      <th>id</th>\n",
       "      <th>len_m</th>\n",
       "      <th>weight</th>\n",
       "      <th>label</th>\n",
       "      <th>geometry</th>\n",
       "    </tr>\n",
       "  </thead>\n",
       "  <tbody>\n",
       "    <tr>\n",
       "      <th>0</th>\n",
       "      <td>34600</td>\n",
       "      <td>46.04</td>\n",
       "      <td>0.575500</td>\n",
       "      <td>street</td>\n",
       "      <td>LINESTRING (-6531759.272 -4150996.664, -653173...</td>\n",
       "    </tr>\n",
       "    <tr>\n",
       "      <th>1</th>\n",
       "      <td>25549</td>\n",
       "      <td>174.04</td>\n",
       "      <td>2.175500</td>\n",
       "      <td>street</td>\n",
       "      <td>LINESTRING (-6531802.205 -4150806.933, -653167...</td>\n",
       "    </tr>\n",
       "    <tr>\n",
       "      <th>2</th>\n",
       "      <td>25944</td>\n",
       "      <td>533.05</td>\n",
       "      <td>6.663125</td>\n",
       "      <td>street</td>\n",
       "      <td>LINESTRING (-6531802.205 -4150806.933, -653150...</td>\n",
       "    </tr>\n",
       "    <tr>\n",
       "      <th>3</th>\n",
       "      <td>26066</td>\n",
       "      <td>171.86</td>\n",
       "      <td>2.148250</td>\n",
       "      <td>street</td>\n",
       "      <td>LINESTRING (-6531329.010 -4150561.688, -653120...</td>\n",
       "    </tr>\n",
       "    <tr>\n",
       "      <th>4</th>\n",
       "      <td>25756</td>\n",
       "      <td>320.38</td>\n",
       "      <td>4.004750</td>\n",
       "      <td>street</td>\n",
       "      <td>LINESTRING (-6531195.975 -4150496.412, -653096...</td>\n",
       "    </tr>\n",
       "  </tbody>\n",
       "</table>\n",
       "</div>"
      ],
      "text/plain": [
       "      id   len_m    weight   label  \\\n",
       "0  34600   46.04  0.575500  street   \n",
       "1  25549  174.04  2.175500  street   \n",
       "2  25944  533.05  6.663125  street   \n",
       "3  26066  171.86  2.148250  street   \n",
       "4  25756  320.38  4.004750  street   \n",
       "\n",
       "                                            geometry  \n",
       "0  LINESTRING (-6531759.272 -4150996.664, -653173...  \n",
       "1  LINESTRING (-6531802.205 -4150806.933, -653167...  \n",
       "2  LINESTRING (-6531802.205 -4150806.933, -653150...  \n",
       "3  LINESTRING (-6531329.010 -4150561.688, -653120...  \n",
       "4  LINESTRING (-6531195.975 -4150496.412, -653096...  "
      ]
     },
     "execution_count": 4,
     "metadata": {},
     "output_type": "execute_result"
    }
   ],
   "source": [
    "gdf_streets_network_lines, gdf_streets_network_points = split_intersecting_lines(gdf_streets)\n",
    "gdf_streets = create_gdf_network(gdf_streets, \"3857\", 80, v_label='street')\n",
    "gdf_streets.head()"
   ]
  },
  {
   "cell_type": "code",
   "execution_count": 5,
   "metadata": {},
   "outputs": [],
   "source": [
    "G, gdf_nodes, gdf_edges, dict_mapping_nodes = graph_from_gdf(gdf_streets, f_weight='weight')"
   ]
  },
  {
   "attachments": {},
   "cell_type": "markdown",
   "metadata": {},
   "source": [
    "# LOCATIONS"
   ]
  },
  {
   "cell_type": "code",
   "execution_count": 6,
   "metadata": {},
   "outputs": [],
   "source": [
    "from netana.service_analysis.sources import create_sources_from_gdf, closest_nodes_to_sources"
   ]
  },
  {
   "cell_type": "code",
   "execution_count": 7,
   "metadata": {},
   "outputs": [
    {
     "name": "stdout",
     "output_type": "stream",
     "text": [
      "9\n"
     ]
    },
    {
     "data": {
      "text/plain": [
       "['15829_street',\n",
       " '51417_street',\n",
       " '41998_street',\n",
       " '57810_street',\n",
       " '48981_street',\n",
       " '12726_street',\n",
       " '52470_street',\n",
       " '44375_street',\n",
       " '27873_street']"
      ]
     },
     "execution_count": 7,
     "metadata": {},
     "output_type": "execute_result"
    }
   ],
   "source": [
    "gdf_sources = gpd.read_file(\"./output/Establecimientos_salud_publicos_alta_al20220721.shp\", where=\"cat='Hospital'\", mask=gdf_mask_LA_MATANZA)\n",
    "gdf_sources = create_sources_from_gdf(gdf_sources, \"3857\")\n",
    "print(len(gdf_sources))\n",
    "list_node_sources, gdf_locations = closest_nodes_to_sources(gdf_sources, gdf_nodes, field_category=\"cat\", field_label=\"gna\", field_name=\"fna\")\n",
    "list_node_sources"
   ]
  },
  {
   "cell_type": "code",
   "execution_count": 42,
   "metadata": {},
   "outputs": [
    {
     "data": {
      "text/html": [
       "<div>\n",
       "<style scoped>\n",
       "    .dataframe tbody tr th:only-of-type {\n",
       "        vertical-align: middle;\n",
       "    }\n",
       "\n",
       "    .dataframe tbody tr th {\n",
       "        vertical-align: top;\n",
       "    }\n",
       "\n",
       "    .dataframe thead th {\n",
       "        text-align: right;\n",
       "    }\n",
       "</style>\n",
       "<table border=\"1\" class=\"dataframe\">\n",
       "  <thead>\n",
       "    <tr style=\"text-align: right;\">\n",
       "      <th></th>\n",
       "      <th>id</th>\n",
       "      <th>lat</th>\n",
       "      <th>long</th>\n",
       "      <th>fna</th>\n",
       "      <th>gna</th>\n",
       "      <th>nam</th>\n",
       "      <th>sag</th>\n",
       "      <th>cpd</th>\n",
       "      <th>cnr</th>\n",
       "      <th>cde</th>\n",
       "      <th>...</th>\n",
       "      <th>tel</th>\n",
       "      <th>sse</th>\n",
       "      <th>nrs</th>\n",
       "      <th>cp1</th>\n",
       "      <th>nor</th>\n",
       "      <th>mod</th>\n",
       "      <th>mai</th>\n",
       "      <th>geometry</th>\n",
       "      <th>index_right</th>\n",
       "      <th>node_id</th>\n",
       "    </tr>\n",
       "  </thead>\n",
       "  <tbody>\n",
       "    <tr>\n",
       "      <th>0</th>\n",
       "      <td>loc_0</td>\n",
       "      <td>-34.769939</td>\n",
       "      <td>-58.648008</td>\n",
       "      <td>Hospital Materno Infantil Dr. J. Equiza</td>\n",
       "      <td>Hospital Materno Infantil</td>\n",
       "      <td>Dr. J. Equiza</td>\n",
       "      <td>Dis. Ministerio de Salud BA</td>\n",
       "      <td>42700031</td>\n",
       "      <td>1.006427e+13</td>\n",
       "      <td>427</td>\n",
       "      <td>...</td>\n",
       "      <td>02202-422232 int</td>\n",
       "      <td>Público</td>\n",
       "      <td>XII</td>\n",
       "      <td>1759</td>\n",
       "      <td>Hospital Materno Infantil Dr. José Equiza</td>\n",
       "      <td>Con Internación</td>\n",
       "      <td>NaN</td>\n",
       "      <td>POINT (-6528666.364 -4132660.548)</td>\n",
       "      <td>15829</td>\n",
       "      <td>15829_street</td>\n",
       "    </tr>\n",
       "    <tr>\n",
       "      <th>1</th>\n",
       "      <td>loc_1</td>\n",
       "      <td>-34.682803</td>\n",
       "      <td>-58.585938</td>\n",
       "      <td>Hospital Municipal de Niños de San Justo</td>\n",
       "      <td>Hospital Municipal</td>\n",
       "      <td>de Niños de San Justo</td>\n",
       "      <td>Dis. Ministerio de Salud BA</td>\n",
       "      <td>42700120</td>\n",
       "      <td>1.106427e+13</td>\n",
       "      <td>427</td>\n",
       "      <td>...</td>\n",
       "      <td>011-44419371/2776</td>\n",
       "      <td>Público</td>\n",
       "      <td>XII</td>\n",
       "      <td>1754</td>\n",
       "      <td>Hospital Municipal del Niño San Justo</td>\n",
       "      <td>Con Internación</td>\n",
       "      <td>NaN</td>\n",
       "      <td>POINT (-6521756.792 -4120858.478)</td>\n",
       "      <td>51417</td>\n",
       "      <td>51417_street</td>\n",
       "    </tr>\n",
       "    <tr>\n",
       "      <th>2</th>\n",
       "      <td>loc_2</td>\n",
       "      <td>-34.753520</td>\n",
       "      <td>-58.580900</td>\n",
       "      <td>Hospital Local Materno Infantil Dra. Germani</td>\n",
       "      <td>Hospital</td>\n",
       "      <td>Local Materno Infantil Dra. Germani</td>\n",
       "      <td>Dis. Ministerio de Salud BA</td>\n",
       "      <td>42700049</td>\n",
       "      <td>1.206427e+13</td>\n",
       "      <td>427</td>\n",
       "      <td>...</td>\n",
       "      <td>011-46260315/0447</td>\n",
       "      <td>Público</td>\n",
       "      <td>XII</td>\n",
       "      <td>1757</td>\n",
       "      <td>Hospital Materno Infantil Dra. Teresa Luisa Ge...</td>\n",
       "      <td>Con Internación</td>\n",
       "      <td>NaN</td>\n",
       "      <td>POINT (-6521196.001 -4130435.784)</td>\n",
       "      <td>41998</td>\n",
       "      <td>41998_street</td>\n",
       "    </tr>\n",
       "    <tr>\n",
       "      <th>3</th>\n",
       "      <td>loc_3</td>\n",
       "      <td>-34.676989</td>\n",
       "      <td>-58.560969</td>\n",
       "      <td>Policlinico Central</td>\n",
       "      <td>Policlinico</td>\n",
       "      <td>de San Justo</td>\n",
       "      <td>Dis. Ministerio de Salud BA</td>\n",
       "      <td>42700138</td>\n",
       "      <td>1.006427e+13</td>\n",
       "      <td>427</td>\n",
       "      <td>...</td>\n",
       "      <td>011-46510164</td>\n",
       "      <td>Público</td>\n",
       "      <td>XII</td>\n",
       "      <td>1754</td>\n",
       "      <td>Policlínico Central San Justo</td>\n",
       "      <td>Con Internación</td>\n",
       "      <td>NaN</td>\n",
       "      <td>POINT (-6518977.238 -4120071.446)</td>\n",
       "      <td>57810</td>\n",
       "      <td>57810_street</td>\n",
       "    </tr>\n",
       "    <tr>\n",
       "      <th>4</th>\n",
       "      <td>loc_4</td>\n",
       "      <td>-34.695396</td>\n",
       "      <td>-58.579157</td>\n",
       "      <td>Hosp. Interz. Gral. de Ag. Dr. Paroissien</td>\n",
       "      <td>Hosp. Interz.</td>\n",
       "      <td>Gral. de Ag. Dr. Paroissien</td>\n",
       "      <td>Dis. Ministerio de Salud BA</td>\n",
       "      <td>42700651</td>\n",
       "      <td>1.006427e+13</td>\n",
       "      <td>427</td>\n",
       "      <td>...</td>\n",
       "      <td>011-46693440/4466120</td>\n",
       "      <td>Público</td>\n",
       "      <td>XII</td>\n",
       "      <td>1765</td>\n",
       "      <td>Hospital Interzonal General de Agudos Dr. Paro...</td>\n",
       "      <td>Con Internación</td>\n",
       "      <td>NaN</td>\n",
       "      <td>POINT (-6521001.951 -4122563.325)</td>\n",
       "      <td>48981</td>\n",
       "      <td>48981_street</td>\n",
       "    </tr>\n",
       "  </tbody>\n",
       "</table>\n",
       "<p>5 rows × 25 columns</p>\n",
       "</div>"
      ],
      "text/plain": [
       "      id        lat       long                                           fna  \\\n",
       "0  loc_0 -34.769939 -58.648008       Hospital Materno Infantil Dr. J. Equiza   \n",
       "1  loc_1 -34.682803 -58.585938      Hospital Municipal de Niños de San Justo   \n",
       "2  loc_2 -34.753520 -58.580900  Hospital Local Materno Infantil Dra. Germani   \n",
       "3  loc_3 -34.676989 -58.560969                           Policlinico Central   \n",
       "4  loc_4 -34.695396 -58.579157     Hosp. Interz. Gral. de Ag. Dr. Paroissien   \n",
       "\n",
       "                         gna                                  nam  \\\n",
       "0  Hospital Materno Infantil                        Dr. J. Equiza   \n",
       "1         Hospital Municipal                de Niños de San Justo   \n",
       "2                   Hospital  Local Materno Infantil Dra. Germani   \n",
       "3                Policlinico                         de San Justo   \n",
       "4              Hosp. Interz.          Gral. de Ag. Dr. Paroissien   \n",
       "\n",
       "                           sag       cpd           cnr  cde  ...  \\\n",
       "0  Dis. Ministerio de Salud BA  42700031  1.006427e+13  427  ...   \n",
       "1  Dis. Ministerio de Salud BA  42700120  1.106427e+13  427  ...   \n",
       "2  Dis. Ministerio de Salud BA  42700049  1.206427e+13  427  ...   \n",
       "3  Dis. Ministerio de Salud BA  42700138  1.006427e+13  427  ...   \n",
       "4  Dis. Ministerio de Salud BA  42700651  1.006427e+13  427  ...   \n",
       "\n",
       "                    tel      sse  nrs   cp1  \\\n",
       "0      02202-422232 int  Público  XII  1759   \n",
       "1     011-44419371/2776  Público  XII  1754   \n",
       "2     011-46260315/0447  Público  XII  1757   \n",
       "3          011-46510164  Público  XII  1754   \n",
       "4  011-46693440/4466120  Público  XII  1765   \n",
       "\n",
       "                                                 nor              mod  mai  \\\n",
       "0          Hospital Materno Infantil Dr. José Equiza  Con Internación  NaN   \n",
       "1              Hospital Municipal del Niño San Justo  Con Internación  NaN   \n",
       "2  Hospital Materno Infantil Dra. Teresa Luisa Ge...  Con Internación  NaN   \n",
       "3                      Policlínico Central San Justo  Con Internación  NaN   \n",
       "4  Hospital Interzonal General de Agudos Dr. Paro...  Con Internación  NaN   \n",
       "\n",
       "                            geometry index_right       node_id  \n",
       "0  POINT (-6528666.364 -4132660.548)       15829  15829_street  \n",
       "1  POINT (-6521756.792 -4120858.478)       51417  51417_street  \n",
       "2  POINT (-6521196.001 -4130435.784)       41998  41998_street  \n",
       "3  POINT (-6518977.238 -4120071.446)       57810  57810_street  \n",
       "4  POINT (-6521001.951 -4122563.325)       48981  48981_street  \n",
       "\n",
       "[5 rows x 25 columns]"
      ]
     },
     "execution_count": 42,
     "metadata": {},
     "output_type": "execute_result"
    }
   ],
   "source": [
    "gdf_locations.head()"
   ]
  },
  {
   "attachments": {},
   "cell_type": "markdown",
   "metadata": {},
   "source": [
    "# ISOCHRONES"
   ]
  },
  {
   "cell_type": "code",
   "execution_count": 35,
   "metadata": {},
   "outputs": [],
   "source": [
    "from netana.isochrones.edges import calculate_isochrone_edges\n",
    "from netana.isochrones.isochrones import create_isochrones, create_individual_sources_isochrones, create_isochrones_for_multiple_weights"
   ]
  },
  {
   "attachments": {},
   "cell_type": "markdown",
   "metadata": {},
   "source": [
    "## Isochrones by value"
   ]
  },
  {
   "cell_type": "code",
   "execution_count": 9,
   "metadata": {},
   "outputs": [],
   "source": [
    "v_time = 15\n",
    "df_edges_cost_limit = calculate_isochrone_edges(G, gdf_nodes, gdf_edges, 'weight', list_node_sources, v_weight_limit=v_time)\n",
    "df_edges_cost_limit = df_edges_cost_limit[['node_id_st', 'node_id_en', 'weight', 'w_start', 'w_end', 'w_mean', 'w_limit', 'geometry']]\n",
    "gdf_buffer = create_isochrones(df_edges_cost_limit, \"3857\", 5, 100)\n",
    "gdf_buffer.to_file(\"./output/isochrones/isochrones_by_value.shp\")"
   ]
  },
  {
   "cell_type": "code",
   "execution_count": null,
   "metadata": {},
   "outputs": [],
   "source": [
    "# Second alternative\n",
    "v_time = 15\n",
    "gdf_buffer = create_isochrones(G, gdf_nodes, gdf_edges, list_node_sources, v_time, \"3857\", 5, 100, f_dissolve='w_limit')\n",
    "gdf_buffer.to_file(\"./output/isochrones/isochrones_by_value.shp\")"
   ]
  },
  {
   "attachments": {},
   "cell_type": "markdown",
   "metadata": {},
   "source": [
    "## Isochrones by field"
   ]
  },
  {
   "cell_type": "code",
   "execution_count": 10,
   "metadata": {},
   "outputs": [
    {
     "name": "stdout",
     "output_type": "stream",
     "text": [
      "['15829_street', '51417_street', '41998_street', '57810_street', '48981_street', '12726_street', '52470_street', '44375_street', '27873_street']\n"
     ]
    },
    {
     "data": {
      "text/html": [
       "<div>\n",
       "<style scoped>\n",
       "    .dataframe tbody tr th:only-of-type {\n",
       "        vertical-align: middle;\n",
       "    }\n",
       "\n",
       "    .dataframe tbody tr th {\n",
       "        vertical-align: top;\n",
       "    }\n",
       "\n",
       "    .dataframe thead th {\n",
       "        text-align: right;\n",
       "    }\n",
       "</style>\n",
       "<table border=\"1\" class=\"dataframe\">\n",
       "  <thead>\n",
       "    <tr style=\"text-align: right;\">\n",
       "      <th></th>\n",
       "      <th>node_loc_id</th>\n",
       "      <th>weight</th>\n",
       "    </tr>\n",
       "  </thead>\n",
       "  <tbody>\n",
       "    <tr>\n",
       "      <th>0</th>\n",
       "      <td>15829_street</td>\n",
       "      <td>15</td>\n",
       "    </tr>\n",
       "    <tr>\n",
       "      <th>1</th>\n",
       "      <td>51417_street</td>\n",
       "      <td>15</td>\n",
       "    </tr>\n",
       "    <tr>\n",
       "      <th>2</th>\n",
       "      <td>41998_street</td>\n",
       "      <td>15</td>\n",
       "    </tr>\n",
       "    <tr>\n",
       "      <th>3</th>\n",
       "      <td>57810_street</td>\n",
       "      <td>10</td>\n",
       "    </tr>\n",
       "    <tr>\n",
       "      <th>4</th>\n",
       "      <td>48981_street</td>\n",
       "      <td>10</td>\n",
       "    </tr>\n",
       "    <tr>\n",
       "      <th>5</th>\n",
       "      <td>12726_street</td>\n",
       "      <td>10</td>\n",
       "    </tr>\n",
       "    <tr>\n",
       "      <th>6</th>\n",
       "      <td>52470_street</td>\n",
       "      <td>5</td>\n",
       "    </tr>\n",
       "    <tr>\n",
       "      <th>7</th>\n",
       "      <td>44375_street</td>\n",
       "      <td>5</td>\n",
       "    </tr>\n",
       "    <tr>\n",
       "      <th>8</th>\n",
       "      <td>27873_street</td>\n",
       "      <td>5</td>\n",
       "    </tr>\n",
       "  </tbody>\n",
       "</table>\n",
       "</div>"
      ],
      "text/plain": [
       "    node_loc_id  weight\n",
       "0  15829_street      15\n",
       "1  51417_street      15\n",
       "2  41998_street      15\n",
       "3  57810_street      10\n",
       "4  48981_street      10\n",
       "5  12726_street      10\n",
       "6  52470_street       5\n",
       "7  44375_street       5\n",
       "8  27873_street       5"
      ]
     },
     "execution_count": 10,
     "metadata": {},
     "output_type": "execute_result"
    }
   ],
   "source": [
    "print(list_node_sources)\n",
    "df_node_sources = pd.DataFrame(zip(list_node_sources, [15,15,15,10,10,10,5,5,5]), columns=['node_loc_id', 'weight'])\n",
    "print(df_node_sources.head())\n",
    "\n",
    "df_edges_cost_limit = calculate_isochrone_edges(G, gdf_nodes, gdf_edges, 'weight', df_node_sources)\n",
    "gdf_buffer = create_isochrones(df_edges_cost_limit, \"3857\", 5, 100)\n",
    "gdf_buffer.to_file(\"./output/isochrones/isochrones_by_field.shp\")"
   ]
  },
  {
   "cell_type": "code",
   "execution_count": 38,
   "metadata": {},
   "outputs": [
    {
     "ename": "NameError",
     "evalue": "name 'df_node_sources' is not defined",
     "output_type": "error",
     "traceback": [
      "\u001b[1;31m---------------------------------------------------------------------------\u001b[0m",
      "\u001b[1;31mNameError\u001b[0m                                 Traceback (most recent call last)",
      "Cell \u001b[1;32mIn[38], line 1\u001b[0m\n\u001b[1;32m----> 1\u001b[0m \u001b[39mprint\u001b[39m(df_node_sources\u001b[39m.\u001b[39mhead())\n",
      "\u001b[1;31mNameError\u001b[0m: name 'df_node_sources' is not defined"
     ]
    }
   ],
   "source": [
    "# Second alternative\n",
    "gdf_buffer = create_isochrones(G, gdf_nodes, gdf_edges, list_node_sources, v_time, \"3857\", 5, 100, f_dissolve='w_limit')\n",
    "gdf_buffer.to_file(\"./output/isochrones/isochrones_by_field.shp\")"
   ]
  },
  {
   "attachments": {},
   "cell_type": "markdown",
   "metadata": {},
   "source": [
    "# Individual isochrones"
   ]
  },
  {
   "cell_type": "code",
   "execution_count": 10,
   "metadata": {},
   "outputs": [],
   "source": [
    "v_time = 15\n",
    "df_edges_weight_limit = calculate_isochrone_edges(G, gdf_nodes, gdf_edges, \"weight\", list_node_sources, v_time, iso_type='individual')\n",
    "df_all_isos = create_isochrones(df_edges_weight_limit[['node_source_st', 'node_source_en', 'geometry']], \"3857\", 5, 100, f_dissolve='node_source_st')\n",
    "\n",
    "df_all_isos = df_all_isos[['node_source_en', 'geometry']]\n",
    "df_all_isos.rename(columns={'node_source_en':'node_id'}, inplace=True)\n",
    "\n",
    "if 'geometry' in list(gdf_locations.columns):\n",
    "    gdf_amenities_iso = df_all_isos.merge(gdf_locations.drop(columns='geometry'), how='left', on='node_id')\n",
    "else:\n",
    "    gdf_amenities_iso = df_all_isos.merge(gdf_locations, how='left', on='node_id')\n",
    "\n",
    "gdf_amenities_iso[['node_id', 'geometry']].to_file(\"./output/isochrones/isochrones_by_value_individual.shp\")"
   ]
  },
  {
   "cell_type": "code",
   "execution_count": null,
   "metadata": {},
   "outputs": [],
   "source": [
    "# Second alternative\n",
    "v_time = 15\n",
    "gdf_amenities_iso = create_individual_sources_isochrones(G, gdf_nodes, gdf_edges, gdf_locations, list_node_sources, \"weight\", v_time, v_frac=0, v_time_factor= 1.2)\n",
    "gdf_amenities_iso[['node_id', 'geometry']].to_file(\"./output/isochrones/isochrones_by_value_individual.shp\")"
   ]
  },
  {
   "cell_type": "markdown",
   "metadata": {},
   "source": [
    "# Multiple isochrones, ring shape"
   ]
  },
  {
   "cell_type": "code",
   "execution_count": 37,
   "metadata": {},
   "outputs": [],
   "source": [
    "iso_rings = create_isochrones_for_multiple_weights(\n",
    "    G, gdf_nodes, gdf_edges, \"weight\" , [5, 10, 15], list_node_sources, 5, 100, area_type='rings', v_crs_proj=\"3857\")\n",
    "iso_rings.to_file(\"./output/isochrones/isochrones_by_value_rings.shp\")"
   ]
  },
  {
   "cell_type": "code",
   "execution_count": null,
   "metadata": {},
   "outputs": [],
   "source": []
  }
 ],
 "metadata": {
  "kernelspec": {
   "display_name": "envNetworkAnalysis",
   "language": "python",
   "name": "python3"
  },
  "language_info": {
   "codemirror_mode": {
    "name": "ipython",
    "version": 3
   },
   "file_extension": ".py",
   "mimetype": "text/x-python",
   "name": "python",
   "nbconvert_exporter": "python",
   "pygments_lexer": "ipython3",
   "version": "3.11.4"
  },
  "orig_nbformat": 4,
  "vscode": {
   "interpreter": {
    "hash": "3c4199a643ad11ad70cd3b60c960c931e44d804da5b3b25f48c0d40beb350406"
   }
  }
 },
 "nbformat": 4,
 "nbformat_minor": 2
}
