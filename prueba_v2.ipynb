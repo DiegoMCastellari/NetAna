{
 "cells": [
  {
   "cell_type": "code",
   "execution_count": 1,
   "metadata": {},
   "outputs": [],
   "source": [
    "import numpy as np\n",
    "import pandas as pd\n",
    "import geopandas as gpd\n",
    "from shapely.geometry import Point, LineString, Polygon\n",
    "# from shapely.ops import split, snap, nearest_points\n",
    "import networkx as nx\n",
    "\n",
    "# import netana as na"
   ]
  },
  {
   "cell_type": "code",
   "execution_count": 2,
   "metadata": {},
   "outputs": [],
   "source": [
    "network_crs = \"3857\"\n",
    "df_streets = gpd.read_file(\"./notebook/street_resistencia_corrientes_v3.shp\")\n",
    "df_streets = df_streets.dissolve()"
   ]
  },
  {
   "attachments": {},
   "cell_type": "markdown",
   "metadata": {},
   "source": [
    "# Create network GeoDataFrame\n",
    "- id, length and weight field\n",
    "- optionally a label field\n",
    "- defined crs "
   ]
  },
  {
   "cell_type": "code",
   "execution_count": 3,
   "metadata": {},
   "outputs": [
    {
     "name": "stdout",
     "output_type": "stream",
     "text": [
      "EPSG:3857\n",
      "47\n"
     ]
    },
    {
     "data": {
      "text/html": [
       "<div>\n",
       "<style scoped>\n",
       "    .dataframe tbody tr th:only-of-type {\n",
       "        vertical-align: middle;\n",
       "    }\n",
       "\n",
       "    .dataframe tbody tr th {\n",
       "        vertical-align: top;\n",
       "    }\n",
       "\n",
       "    .dataframe thead th {\n",
       "        text-align: right;\n",
       "    }\n",
       "</style>\n",
       "<table border=\"1\" class=\"dataframe\">\n",
       "  <thead>\n",
       "    <tr style=\"text-align: right;\">\n",
       "      <th></th>\n",
       "      <th>id</th>\n",
       "      <th>length</th>\n",
       "      <th>weight</th>\n",
       "      <th>label</th>\n",
       "      <th>geometry</th>\n",
       "    </tr>\n",
       "  </thead>\n",
       "  <tbody>\n",
       "    <tr>\n",
       "      <th>0</th>\n",
       "      <td>e_1</td>\n",
       "      <td>458.76</td>\n",
       "      <td>6.116800</td>\n",
       "      <td>calle</td>\n",
       "      <td>LINESTRING (-6546884.300 -3184165.694, -654703...</td>\n",
       "    </tr>\n",
       "    <tr>\n",
       "      <th>1</th>\n",
       "      <td>e_2</td>\n",
       "      <td>459.53</td>\n",
       "      <td>6.127067</td>\n",
       "      <td>calle</td>\n",
       "      <td>LINESTRING (-6546859.721 -3184019.784, -654700...</td>\n",
       "    </tr>\n",
       "    <tr>\n",
       "      <th>2</th>\n",
       "      <td>e_3</td>\n",
       "      <td>460.80</td>\n",
       "      <td>6.144000</td>\n",
       "      <td>calle</td>\n",
       "      <td>LINESTRING (-6547295.180 -3183823.596, -654714...</td>\n",
       "    </tr>\n",
       "    <tr>\n",
       "      <th>3</th>\n",
       "      <td>e_4</td>\n",
       "      <td>471.56</td>\n",
       "      <td>6.287467</td>\n",
       "      <td>calle</td>\n",
       "      <td>LINESTRING (-6546820.169 -3183766.855, -654695...</td>\n",
       "    </tr>\n",
       "    <tr>\n",
       "      <th>4</th>\n",
       "      <td>e_5</td>\n",
       "      <td>461.49</td>\n",
       "      <td>6.153200</td>\n",
       "      <td>calle</td>\n",
       "      <td>LINESTRING (-6547241.580 -3183488.333, -654711...</td>\n",
       "    </tr>\n",
       "  </tbody>\n",
       "</table>\n",
       "</div>"
      ],
      "text/plain": [
       "    id  length    weight  label  \\\n",
       "0  e_1  458.76  6.116800  calle   \n",
       "1  e_2  459.53  6.127067  calle   \n",
       "2  e_3  460.80  6.144000  calle   \n",
       "3  e_4  471.56  6.287467  calle   \n",
       "4  e_5  461.49  6.153200  calle   \n",
       "\n",
       "                                            geometry  \n",
       "0  LINESTRING (-6546884.300 -3184165.694, -654703...  \n",
       "1  LINESTRING (-6546859.721 -3184019.784, -654700...  \n",
       "2  LINESTRING (-6547295.180 -3183823.596, -654714...  \n",
       "3  LINESTRING (-6546820.169 -3183766.855, -654695...  \n",
       "4  LINESTRING (-6547241.580 -3183488.333, -654711...  "
      ]
     },
     "execution_count": 3,
     "metadata": {},
     "output_type": "execute_result"
    }
   ],
   "source": [
    "from netana.graph_manager.network import split_intersecting_lines, create_gdf_network\n",
    "\n",
    "# topology\n",
    "df_streets = split_intersecting_lines(df_streets)\n",
    "# create network\n",
    "gdf_network = create_gdf_network(df_streets, network_crs, v_speed=4.5, v_label='calle')\n",
    "print(gdf_network.crs)\n",
    "print(len(gdf_network))\n",
    "gdf_network.head()"
   ]
  },
  {
   "attachments": {},
   "cell_type": "markdown",
   "metadata": {},
   "source": [
    "# Create LINES and POINTS DATASETS; and GRAPH"
   ]
  },
  {
   "cell_type": "code",
   "execution_count": 4,
   "metadata": {},
   "outputs": [
    {
     "data": {
      "text/plain": [
       "<networkx.classes.graph.Graph at 0x1fa368fa110>"
      ]
     },
     "execution_count": 4,
     "metadata": {},
     "output_type": "execute_result"
    }
   ],
   "source": [
    "from netana.graph_manager.graph_creation import graph_from_gdf\n",
    "\n",
    "G, gdf_nodes, gdf_edges  = graph_from_gdf(gdf_network)\n",
    "\n",
    "gdf_edges.to_file(\"./output/pruebas_2025/edges.shp\") # TO DO - save and load to db\n",
    "gdf_nodes.to_file(\"./output/pruebas_2025/nodes.shp\")\n",
    "G"
   ]
  },
  {
   "attachments": {},
   "cell_type": "markdown",
   "metadata": {},
   "source": [
    "# SOURCES"
   ]
  },
  {
   "cell_type": "code",
   "execution_count": 5,
   "metadata": {},
   "outputs": [
    {
     "data": {
      "text/html": [
       "<div>\n",
       "<style scoped>\n",
       "    .dataframe tbody tr th:only-of-type {\n",
       "        vertical-align: middle;\n",
       "    }\n",
       "\n",
       "    .dataframe tbody tr th {\n",
       "        vertical-align: top;\n",
       "    }\n",
       "\n",
       "    .dataframe thead th {\n",
       "        text-align: right;\n",
       "    }\n",
       "</style>\n",
       "<table border=\"1\" class=\"dataframe\">\n",
       "  <thead>\n",
       "    <tr style=\"text-align: right;\">\n",
       "      <th></th>\n",
       "      <th>id</th>\n",
       "      <th>label</th>\n",
       "      <th>geometry</th>\n",
       "    </tr>\n",
       "  </thead>\n",
       "  <tbody>\n",
       "    <tr>\n",
       "      <th>0</th>\n",
       "      <td>1</td>\n",
       "      <td>plaza</td>\n",
       "      <td>POLYGON ((-6546874.064 -3184160.022, -6546867....</td>\n",
       "    </tr>\n",
       "    <tr>\n",
       "      <th>1</th>\n",
       "      <td>2</td>\n",
       "      <td>plaza</td>\n",
       "      <td>POLYGON ((-6546624.137 -3183661.595, -6546603....</td>\n",
       "    </tr>\n",
       "  </tbody>\n",
       "</table>\n",
       "</div>"
      ],
      "text/plain": [
       "   id  label                                           geometry\n",
       "0   1  plaza  POLYGON ((-6546874.064 -3184160.022, -6546867....\n",
       "1   2  plaza  POLYGON ((-6546624.137 -3183661.595, -6546603...."
      ]
     },
     "execution_count": 5,
     "metadata": {},
     "output_type": "execute_result"
    }
   ],
   "source": [
    "from netana.graph_manager.sources import create_sources, sources_to_graph, create_sources_edges_and_nodes\n",
    "\n",
    "sources_file_path = \"./notebook/source_corrientes.shp\"\n",
    "gdf_locations = gpd.read_file(sources_file_path)\n",
    "gdf_locations = gdf_locations.explode(index_parts=True).reset_index(drop=True)\n",
    "\n",
    "gdf_locations = create_sources(gdf_locations, network_crs, v_label='plaza')\n",
    "gdf_locations"
   ]
  },
  {
   "cell_type": "code",
   "execution_count": 6,
   "metadata": {},
   "outputs": [
    {
     "name": "stdout",
     "output_type": "stream",
     "text": [
      "EPSG:3857\n"
     ]
    },
    {
     "name": "stderr",
     "output_type": "stream",
     "text": [
      "c:\\Users\\Compumar\\Documents\\DESA\\GIS_NetworkAn\\envNetworkAnalysis\\Lib\\site-packages\\geopandas\\geodataframe.py:1538: SettingWithCopyWarning: \n",
      "A value is trying to be set on a copy of a slice from a DataFrame.\n",
      "Try using .loc[row_indexer,col_indexer] = value instead\n",
      "\n",
      "See the caveats in the documentation: https://pandas.pydata.org/pandas-docs/stable/user_guide/indexing.html#returning-a-view-versus-a-copy\n",
      "  super().__setitem__(key, value)\n",
      "c:\\Users\\Compumar\\Documents\\DESA\\GIS_NetworkAn\\envNetworkAnalysis\\Lib\\site-packages\\geopandas\\geodataframe.py:1538: SettingWithCopyWarning: \n",
      "A value is trying to be set on a copy of a slice from a DataFrame.\n",
      "Try using .loc[row_indexer,col_indexer] = value instead\n",
      "\n",
      "See the caveats in the documentation: https://pandas.pydata.org/pandas-docs/stable/user_guide/indexing.html#returning-a-view-versus-a-copy\n",
      "  super().__setitem__(key, value)\n",
      "c:\\Users\\Compumar\\Documents\\DESA\\GIS_NetworkAn\\envNetworkAnalysis\\Lib\\site-packages\\geopandas\\geodataframe.py:1538: SettingWithCopyWarning: \n",
      "A value is trying to be set on a copy of a slice from a DataFrame.\n",
      "Try using .loc[row_indexer,col_indexer] = value instead\n",
      "\n",
      "See the caveats in the documentation: https://pandas.pydata.org/pandas-docs/stable/user_guide/indexing.html#returning-a-view-versus-a-copy\n",
      "  super().__setitem__(key, value)\n",
      "c:\\Users\\Compumar\\Documents\\DESA\\GIS_NetworkAn\\envNetworkAnalysis\\Lib\\site-packages\\geopandas\\geodataframe.py:1538: SettingWithCopyWarning: \n",
      "A value is trying to be set on a copy of a slice from a DataFrame.\n",
      "Try using .loc[row_indexer,col_indexer] = value instead\n",
      "\n",
      "See the caveats in the documentation: https://pandas.pydata.org/pandas-docs/stable/user_guide/indexing.html#returning-a-view-versus-a-copy\n",
      "  super().__setitem__(key, value)\n",
      "c:\\Users\\Compumar\\Documents\\DESA\\GIS_NetworkAn\\envNetworkAnalysis\\Lib\\site-packages\\geopandas\\geodataframe.py:1538: SettingWithCopyWarning: \n",
      "A value is trying to be set on a copy of a slice from a DataFrame.\n",
      "Try using .loc[row_indexer,col_indexer] = value instead\n",
      "\n",
      "See the caveats in the documentation: https://pandas.pydata.org/pandas-docs/stable/user_guide/indexing.html#returning-a-view-versus-a-copy\n",
      "  super().__setitem__(key, value)\n",
      "c:\\Users\\Compumar\\Documents\\DESA\\GIS_NetworkAn\\envNetworkAnalysis\\Lib\\site-packages\\geopandas\\array.py:1486: UserWarning: CRS not set for some of the concatenation inputs. Setting output's CRS as WGS 84 / Pseudo-Mercator (the single non-null crs provided).\n",
      "  warnings.warn(\n"
     ]
    },
    {
     "data": {
      "text/html": [
       "<div>\n",
       "<style scoped>\n",
       "    .dataframe tbody tr th:only-of-type {\n",
       "        vertical-align: middle;\n",
       "    }\n",
       "\n",
       "    .dataframe tbody tr th {\n",
       "        vertical-align: top;\n",
       "    }\n",
       "\n",
       "    .dataframe thead th {\n",
       "        text-align: right;\n",
       "    }\n",
       "</style>\n",
       "<table border=\"1\" class=\"dataframe\">\n",
       "  <thead>\n",
       "    <tr style=\"text-align: right;\">\n",
       "      <th></th>\n",
       "      <th>id</th>\n",
       "      <th>label</th>\n",
       "      <th>geometry</th>\n",
       "      <th>node_id</th>\n",
       "    </tr>\n",
       "  </thead>\n",
       "  <tbody>\n",
       "    <tr>\n",
       "      <th>0</th>\n",
       "      <td>1</td>\n",
       "      <td>plaza</td>\n",
       "      <td>POLYGON ((-6546874.064 -3184160.022, -6546867....</td>\n",
       "      <td>1_cen</td>\n",
       "    </tr>\n",
       "    <tr>\n",
       "      <th>1</th>\n",
       "      <td>2</td>\n",
       "      <td>plaza</td>\n",
       "      <td>POLYGON ((-6546624.137 -3183661.595, -6546603....</td>\n",
       "      <td>2_cen</td>\n",
       "    </tr>\n",
       "  </tbody>\n",
       "</table>\n",
       "</div>"
      ],
      "text/plain": [
       "   id  label                                           geometry node_id\n",
       "0   1  plaza  POLYGON ((-6546874.064 -3184160.022, -6546867....   1_cen\n",
       "1   2  plaza  POLYGON ((-6546624.137 -3183661.595, -6546603....   2_cen"
      ]
     },
     "execution_count": 6,
     "metadata": {},
     "output_type": "execute_result"
    }
   ],
   "source": [
    "G_sources, gdf_edges_sources, gdf_nodes_sources, gdf_locations = sources_to_graph(G, gdf_edges, gdf_nodes, gdf_locations, search_radio=10)\n",
    "gdf_edges_sources.to_file(\"./output/pruebas_2025/edges.shp\")\n",
    "gdf_nodes_sources.to_file(\"./output/pruebas_2025/nodes.shp\")\n",
    "print(gdf_locations.crs)\n",
    "gdf_locations.head()"
   ]
  },
  {
   "cell_type": "markdown",
   "metadata": {},
   "source": [
    "# ISOCHRONES"
   ]
  },
  {
   "cell_type": "code",
   "execution_count": 18,
   "metadata": {},
   "outputs": [
    {
     "name": "stderr",
     "output_type": "stream",
     "text": [
      "C:\\Users\\Compumar\\AppData\\Local\\Temp\\ipykernel_1916\\1027097683.py:6: UserWarning: Column names longer than 10 characters will be truncated when saved to ESRI Shapefile.\n",
      "  gdf_iso.to_file(\"./output/pruebas_2025/edges_iso.shp\")\n"
     ]
    },
    {
     "data": {
      "text/html": [
       "<div>\n",
       "<style scoped>\n",
       "    .dataframe tbody tr th:only-of-type {\n",
       "        vertical-align: middle;\n",
       "    }\n",
       "\n",
       "    .dataframe tbody tr th {\n",
       "        vertical-align: top;\n",
       "    }\n",
       "\n",
       "    .dataframe thead th {\n",
       "        text-align: right;\n",
       "    }\n",
       "</style>\n",
       "<table border=\"1\" class=\"dataframe\">\n",
       "  <thead>\n",
       "    <tr style=\"text-align: right;\">\n",
       "      <th></th>\n",
       "      <th>weight_limit</th>\n",
       "      <th>geometry</th>\n",
       "    </tr>\n",
       "  </thead>\n",
       "  <tbody>\n",
       "    <tr>\n",
       "      <th>0</th>\n",
       "      <td>2</td>\n",
       "      <td>MULTIPOLYGON (((-6546517.353 -3183635.602, -65...</td>\n",
       "    </tr>\n",
       "    <tr>\n",
       "      <th>1</th>\n",
       "      <td>3</td>\n",
       "      <td>MULTIPOLYGON (((-6546855.304 -3183645.587, -65...</td>\n",
       "    </tr>\n",
       "    <tr>\n",
       "      <th>2</th>\n",
       "      <td>2</td>\n",
       "      <td>MULTIPOLYGON (((-6546474.721 -3183647.875, -65...</td>\n",
       "    </tr>\n",
       "    <tr>\n",
       "      <th>3</th>\n",
       "      <td>1</td>\n",
       "      <td>MULTIPOLYGON (((-6546667.844 -3183696.786, -65...</td>\n",
       "    </tr>\n",
       "  </tbody>\n",
       "</table>\n",
       "</div>"
      ],
      "text/plain": [
       "  weight_limit                                           geometry\n",
       "0            2  MULTIPOLYGON (((-6546517.353 -3183635.602, -65...\n",
       "1            3  MULTIPOLYGON (((-6546855.304 -3183645.587, -65...\n",
       "2            2  MULTIPOLYGON (((-6546474.721 -3183647.875, -65...\n",
       "3            1  MULTIPOLYGON (((-6546667.844 -3183696.786, -65..."
      ]
     },
     "execution_count": 18,
     "metadata": {},
     "output_type": "execute_result"
    }
   ],
   "source": [
    "from netana.isochrones.isochrones import create_isochrones_multiple_weights\n",
    "\n",
    "gdf_iso = create_isochrones_multiple_weights(\n",
    "    G_sources, gdf_nodes_sources, gdf_edges_sources, gdf_locations, \"weight\" , [1,2,3],  50, 50, \n",
    "    f_dissolve='weight_limit', area_type='rings', v_crs_proj=\"3857\")\n",
    "gdf_iso.to_file(\"./output/pruebas_2025/edges_iso.shp\")\n",
    "gdf_iso"
   ]
  },
  {
   "cell_type": "code",
   "execution_count": 19,
   "metadata": {},
   "outputs": [
    {
     "name": "stderr",
     "output_type": "stream",
     "text": [
      "C:\\Users\\Compumar\\AppData\\Local\\Temp\\ipykernel_1916\\3702680235.py:6: UserWarning: Column names longer than 10 characters will be truncated when saved to ESRI Shapefile.\n",
      "  gdf_iso_ind.to_file(\"./output/pruebas_2025/edges_iso_inv.shp\")\n"
     ]
    },
    {
     "data": {
      "text/html": [
       "<div>\n",
       "<style scoped>\n",
       "    .dataframe tbody tr th:only-of-type {\n",
       "        vertical-align: middle;\n",
       "    }\n",
       "\n",
       "    .dataframe tbody tr th {\n",
       "        vertical-align: top;\n",
       "    }\n",
       "\n",
       "    .dataframe thead th {\n",
       "        text-align: right;\n",
       "    }\n",
       "</style>\n",
       "<table border=\"1\" class=\"dataframe\">\n",
       "  <thead>\n",
       "    <tr style=\"text-align: right;\">\n",
       "      <th></th>\n",
       "      <th>weight_limit</th>\n",
       "      <th>geometry</th>\n",
       "      <th>node_source_st</th>\n",
       "    </tr>\n",
       "  </thead>\n",
       "  <tbody>\n",
       "    <tr>\n",
       "      <th>0</th>\n",
       "      <td>2</td>\n",
       "      <td>POLYGON ((-6546843.191 -3184232.487, -6546842....</td>\n",
       "      <td>NaN</td>\n",
       "    </tr>\n",
       "    <tr>\n",
       "      <th>1</th>\n",
       "      <td>3</td>\n",
       "      <td>MULTIPOLYGON (((-6546717.154 -3184097.713, -65...</td>\n",
       "      <td>NaN</td>\n",
       "    </tr>\n",
       "    <tr>\n",
       "      <th>2</th>\n",
       "      <td>3</td>\n",
       "      <td>POLYGON ((-6546753.779 -3183569.723, -6546753....</td>\n",
       "      <td>NaN</td>\n",
       "    </tr>\n",
       "    <tr>\n",
       "      <th>3</th>\n",
       "      <td>2</td>\n",
       "      <td>POLYGON ((-6546843.199 -3184232.545, -6546842....</td>\n",
       "      <td>NaN</td>\n",
       "    </tr>\n",
       "    <tr>\n",
       "      <th>4</th>\n",
       "      <td>2</td>\n",
       "      <td>MULTIPOLYGON (((-6546517.353 -3183635.602, -65...</td>\n",
       "      <td>NaN</td>\n",
       "    </tr>\n",
       "    <tr>\n",
       "      <th>5</th>\n",
       "      <td>3</td>\n",
       "      <td>MULTIPOLYGON (((-6546688.781 -3184165.273, -65...</td>\n",
       "      <td>NaN</td>\n",
       "    </tr>\n",
       "    <tr>\n",
       "      <th>6</th>\n",
       "      <td>3</td>\n",
       "      <td>MULTIPOLYGON (((-6546855.304 -3183645.587, -65...</td>\n",
       "      <td>NaN</td>\n",
       "    </tr>\n",
       "    <tr>\n",
       "      <th>7</th>\n",
       "      <td>2</td>\n",
       "      <td>POLYGON ((-6546843.199 -3184232.545, -6546842....</td>\n",
       "      <td>NaN</td>\n",
       "    </tr>\n",
       "    <tr>\n",
       "      <th>8</th>\n",
       "      <td>2</td>\n",
       "      <td>MULTIPOLYGON (((-6546517.353 -3183635.602, -65...</td>\n",
       "      <td>NaN</td>\n",
       "    </tr>\n",
       "    <tr>\n",
       "      <th>9</th>\n",
       "      <td>2</td>\n",
       "      <td>MULTIPOLYGON (((-6546925.230 -3184107.670, -65...</td>\n",
       "      <td>NaN</td>\n",
       "    </tr>\n",
       "    <tr>\n",
       "      <th>10</th>\n",
       "      <td>2</td>\n",
       "      <td>MULTIPOLYGON (((-6546474.721 -3183647.875, -65...</td>\n",
       "      <td>NaN</td>\n",
       "    </tr>\n",
       "    <tr>\n",
       "      <th>11</th>\n",
       "      <td>1</td>\n",
       "      <td>POLYGON ((-6546940.752 -3184207.732, -6546941....</td>\n",
       "      <td>1_cen</td>\n",
       "    </tr>\n",
       "    <tr>\n",
       "      <th>12</th>\n",
       "      <td>1</td>\n",
       "      <td>POLYGON ((-6546667.844 -3183696.786, -6546668....</td>\n",
       "      <td>1_cen</td>\n",
       "    </tr>\n",
       "  </tbody>\n",
       "</table>\n",
       "</div>"
      ],
      "text/plain": [
       "   weight_limit                                           geometry  \\\n",
       "0             2  POLYGON ((-6546843.191 -3184232.487, -6546842....   \n",
       "1             3  MULTIPOLYGON (((-6546717.154 -3184097.713, -65...   \n",
       "2             3  POLYGON ((-6546753.779 -3183569.723, -6546753....   \n",
       "3             2  POLYGON ((-6546843.199 -3184232.545, -6546842....   \n",
       "4             2  MULTIPOLYGON (((-6546517.353 -3183635.602, -65...   \n",
       "5             3  MULTIPOLYGON (((-6546688.781 -3184165.273, -65...   \n",
       "6             3  MULTIPOLYGON (((-6546855.304 -3183645.587, -65...   \n",
       "7             2  POLYGON ((-6546843.199 -3184232.545, -6546842....   \n",
       "8             2  MULTIPOLYGON (((-6546517.353 -3183635.602, -65...   \n",
       "9             2  MULTIPOLYGON (((-6546925.230 -3184107.670, -65...   \n",
       "10            2  MULTIPOLYGON (((-6546474.721 -3183647.875, -65...   \n",
       "11            1  POLYGON ((-6546940.752 -3184207.732, -6546941....   \n",
       "12            1  POLYGON ((-6546667.844 -3183696.786, -6546668....   \n",
       "\n",
       "   node_source_st  \n",
       "0             NaN  \n",
       "1             NaN  \n",
       "2             NaN  \n",
       "3             NaN  \n",
       "4             NaN  \n",
       "5             NaN  \n",
       "6             NaN  \n",
       "7             NaN  \n",
       "8             NaN  \n",
       "9             NaN  \n",
       "10            NaN  \n",
       "11          1_cen  \n",
       "12          1_cen  "
      ]
     },
     "execution_count": 19,
     "metadata": {},
     "output_type": "execute_result"
    }
   ],
   "source": [
    "from netana.isochrones.isochrones import create_individual_isochrones_multiple_weights\n",
    "\n",
    "gdf_iso_ind = create_individual_isochrones_multiple_weights(\n",
    "    G_sources, gdf_edges_sources, gdf_locations, \"weight\", [1,2,3], 50, 50, \n",
    "    f_dissolve='weight_limit', area_type='rings', v_frac=0, v_time_factor= 20)\n",
    "gdf_iso_ind.to_file(\"./output/pruebas_2025/edges_iso_inv.shp\")\n",
    "gdf_iso_ind"
   ]
  },
  {
   "cell_type": "code",
   "execution_count": null,
   "metadata": {},
   "outputs": [],
   "source": []
  }
 ],
 "metadata": {
  "kernelspec": {
   "display_name": "envNetworkAnalysis",
   "language": "python",
   "name": "python3"
  },
  "language_info": {
   "codemirror_mode": {
    "name": "ipython",
    "version": 3
   },
   "file_extension": ".py",
   "mimetype": "text/x-python",
   "name": "python",
   "nbconvert_exporter": "python",
   "pygments_lexer": "ipython3",
   "version": "3.11.4"
  },
  "orig_nbformat": 4,
  "vscode": {
   "interpreter": {
    "hash": "3c4199a643ad11ad70cd3b60c960c931e44d804da5b3b25f48c0d40beb350406"
   }
  }
 },
 "nbformat": 4,
 "nbformat_minor": 2
}
