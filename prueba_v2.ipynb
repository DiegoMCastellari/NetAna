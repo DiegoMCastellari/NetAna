{
 "cells": [
  {
   "cell_type": "code",
   "execution_count": 1,
   "metadata": {},
   "outputs": [],
   "source": [
    "import numpy as np\n",
    "import pandas as pd\n",
    "import geopandas as gpd\n",
    "from shapely.geometry import Point, LineString, Polygon\n",
    "# from shapely.ops import split, snap, nearest_points\n",
    "# import netana as na\n",
    "import networkx as nx"
   ]
  },
  {
   "cell_type": "markdown",
   "metadata": {},
   "source": [
    "# TOPOLOGIA \n",
    "- SPLIT LINES -- complete\n",
    "- MERGE LINES\n",
    "- OVERKILL OVERLAPING LINES\n",
    "- CLIP LINES BY POLYGON\n",
    "- DELETE ISLANDS (by id of larger dataset)"
   ]
  },
  {
   "cell_type": "code",
   "execution_count": 63,
   "metadata": {},
   "outputs": [],
   "source": [
    "network_crs = \"3857\"\n",
    "df_streets = gpd.read_file(\"./notebook/street_resistencia_corrientes_v3.shp\")\n",
    "\n",
    "unary_union_result = df_streets.unary_union.intersection(df_streets.unary_union)\n",
    "gpd_lines = gpd.GeoDataFrame([unary_union_result], columns=['geometry'], geometry='geometry').explode(index_parts=False).reset_index(drop=True)"
   ]
  },
  {
   "cell_type": "code",
   "execution_count": 115,
   "metadata": {},
   "outputs": [
    {
     "data": {
      "text/plain": [
       "<Projected CRS: EPSG:3857>\n",
       "Name: WGS 84 / Pseudo-Mercator\n",
       "Axis Info [cartesian]:\n",
       "- X[east]: Easting (metre)\n",
       "- Y[north]: Northing (metre)\n",
       "Area of Use:\n",
       "- name: World between 85.06°S and 85.06°N.\n",
       "- bounds: (-180.0, -85.06, 180.0, 85.06)\n",
       "Coordinate Operation:\n",
       "- name: Popular Visualisation Pseudo-Mercator\n",
       "- method: Popular Visualisation Pseudo Mercator\n",
       "Datum: World Geodetic System 1984 ensemble\n",
       "- Ellipsoid: WGS 84\n",
       "- Prime Meridian: Greenwich"
      ]
     },
     "execution_count": 115,
     "metadata": {},
     "output_type": "execute_result"
    }
   ],
   "source": [
    "gpd_lines.crs = df_streets.crs\n",
    "gpd_lines = gpd_lines.to_crs(network_crs)\n",
    "gpd_lines.crs "
   ]
  },
  {
   "cell_type": "code",
   "execution_count": 116,
   "metadata": {},
   "outputs": [],
   "source": [
    "# calculate weights (TO DO)\n",
    "gpd_lines['weight'] = gpd_lines.length"
   ]
  },
  {
   "attachments": {},
   "cell_type": "markdown",
   "metadata": {},
   "source": [
    "# Create LINES and POINTS DATASETS; and GRAPH"
   ]
  },
  {
   "cell_type": "code",
   "execution_count": 217,
   "metadata": {},
   "outputs": [],
   "source": [
    "# create nodes and edges datasets\n",
    "def create_nodes_and_edges_gdf(gpd_lines):\n",
    "    # create lines\n",
    "    # get starting and ending points\n",
    "    gpd_lines['nd_st_coords'] = gpd_lines.apply(lambda row: Point(row.geometry.coords[0]), axis=1)\n",
    "    gpd_lines['nd_en_coords'] = gpd_lines.apply(lambda row: Point(row.geometry.coords[1]), axis=1)\n",
    "    gpd_lines['id'] = \"e_\"+ (gpd_lines.index+1).astype(str)\n",
    "\n",
    "    # create points from lines\n",
    "    # list all unique points from lines\n",
    "    points_list = list(gpd_lines.nd_st_coords.unique()) + list(gpd_lines.nd_en_coords.unique())\n",
    "    points_list = set(points_list)\n",
    "\n",
    "    # create a point dataset\n",
    "    gdf_points = pd.DataFrame(points_list, columns=['geometry'])\n",
    "    gdf_points['node_id'] = \"n_\"+ (gdf_points.index+1).astype(str)\n",
    "    gdf_points = gdf_points[['node_id', 'geometry']]\n",
    "\n",
    "        # add points ids to lines dataset\n",
    "    gpd_lines['nd_st'] = gpd_lines.apply(lambda row: list(gdf_points.loc[gdf_points.geometry == row.nd_st_coords, 'node_id'])[0], axis=1)\n",
    "    gpd_lines['nd_en'] = gpd_lines.apply(lambda row: list(gdf_points.loc[gdf_points.geometry == row.nd_en_coords, 'node_id'])[0], axis=1)\n",
    "    gpd_lines = gpd_lines[['id', 'nd_st', 'nd_en', 'weight', 'geometry']]\n",
    "\n",
    "    return [gdf_points, gpd_lines]\n",
    "\n",
    "# create graph, point, edges and mapping dict. from gdf\n",
    "def graph_from_gdf(gdf_network, f_weight='weight', v_label=None, v_make_directed=False, v_directed=False, remove_isolated=False, remove_selfloop=False):\n",
    "\n",
    "    gdf_nodes, gdf_edges = create_nodes_and_edges_gdf(gdf_network)\n",
    "    gdf_nodes = gpd.GeoDataFrame(gdf_nodes)\n",
    "    gdf_edges = gpd.GeoDataFrame(gdf_edges)\n",
    "    gdf_nodes.crs = gdf_network.crs\n",
    "    gdf_edges.crs = gdf_network.crs\n",
    "\n",
    "    edgelist = list(gdf_edges.apply(lambda row: ( row.nd_st, row.nd_en, {'id':row.id, 'weight': row.weight}), axis=1))\n",
    "    graph = nx.from_edgelist(edgelist)\n",
    "\n",
    "    if remove_isolated == True:\n",
    "        graph.remove_nodes_from(list(nx.isolates(graph)))\n",
    "    if remove_selfloop == True:\n",
    "        graph.remove_edges_from(nx.selfloop_edges(graph))\n",
    "\n",
    "    if v_make_directed == True:\n",
    "        graph = graph.to_directed(as_view=False)\n",
    "    \n",
    "    return [graph, gdf_nodes, gdf_edges]"
   ]
  },
  {
   "cell_type": "code",
   "execution_count": 218,
   "metadata": {},
   "outputs": [
    {
     "data": {
      "text/plain": [
       "<networkx.classes.graph.Graph at 0x16e8fd597d0>"
      ]
     },
     "execution_count": 218,
     "metadata": {},
     "output_type": "execute_result"
    }
   ],
   "source": [
    "G, gdf_nodes, gdf_edges  = graph_from_gdf(gpd_lines)\n",
    "G"
   ]
  },
  {
   "attachments": {},
   "cell_type": "markdown",
   "metadata": {},
   "source": [
    "# SOURCES"
   ]
  },
  {
   "cell_type": "code",
   "execution_count": 219,
   "metadata": {},
   "outputs": [],
   "source": [
    "# create a clean sources gdf\n",
    "def create_sources_from_gdf(gdf_sources, v_crs_proj):\n",
    "    \n",
    "    gdf_sources_2 = gdf_sources.to_crs(v_crs_proj)\n",
    "    gdf_sources_2 = gdf_sources_2.explode(index_parts=True).reset_index(drop=True)\n",
    "\n",
    "    if 'id' in gdf_sources_2.columns:\n",
    "        gdf_sources_2.drop(columns=['id'], inplace=True)\n",
    "    gdf_sources_2['id'] = list(gdf_sources_2.index)\n",
    "    gdf_sources_2['id'] = gdf_sources_2.apply(lambda row: \"loc_\"+str(row.id), axis=1) \n",
    "\n",
    "    gdf_sources_2 = gdf_sources_2[['id', 'geometry']]\n",
    "\n",
    "    return gdf_sources_2"
   ]
  },
  {
   "cell_type": "code",
   "execution_count": 220,
   "metadata": {},
   "outputs": [
    {
     "name": "stdout",
     "output_type": "stream",
     "text": [
      "EPSG:3857\n"
     ]
    },
    {
     "data": {
      "text/html": [
       "<div>\n",
       "<style scoped>\n",
       "    .dataframe tbody tr th:only-of-type {\n",
       "        vertical-align: middle;\n",
       "    }\n",
       "\n",
       "    .dataframe tbody tr th {\n",
       "        vertical-align: top;\n",
       "    }\n",
       "\n",
       "    .dataframe thead th {\n",
       "        text-align: right;\n",
       "    }\n",
       "</style>\n",
       "<table border=\"1\" class=\"dataframe\">\n",
       "  <thead>\n",
       "    <tr style=\"text-align: right;\">\n",
       "      <th></th>\n",
       "      <th>id</th>\n",
       "      <th>geometry</th>\n",
       "    </tr>\n",
       "  </thead>\n",
       "  <tbody>\n",
       "    <tr>\n",
       "      <th>0</th>\n",
       "      <td>loc_0</td>\n",
       "      <td>POLYGON ((-6546874.064 -3184160.022, -6546867....</td>\n",
       "    </tr>\n",
       "    <tr>\n",
       "      <th>1</th>\n",
       "      <td>loc_1</td>\n",
       "      <td>POLYGON ((-6546624.137 -3183661.595, -6546603....</td>\n",
       "    </tr>\n",
       "  </tbody>\n",
       "</table>\n",
       "</div>"
      ],
      "text/plain": [
       "      id                                           geometry\n",
       "0  loc_0  POLYGON ((-6546874.064 -3184160.022, -6546867....\n",
       "1  loc_1  POLYGON ((-6546624.137 -3183661.595, -6546603...."
      ]
     },
     "execution_count": 220,
     "metadata": {},
     "output_type": "execute_result"
    }
   ],
   "source": [
    "sources_file_path = \"./notebook/source_corrientes.shp\"\n",
    "\n",
    "gdf_locations = gpd.read_file(sources_file_path)\n",
    "gdf_locations = create_sources_from_gdf(gdf_locations, network_crs)\n",
    "gdf_locations = gdf_locations.to_crs(network_crs)\n",
    "print(gdf_locations.crs)\n",
    "gdf_locations.head()"
   ]
  },
  {
   "cell_type": "code",
   "execution_count": 221,
   "metadata": {},
   "outputs": [
    {
     "data": {
      "text/plain": [
       "\" nodes_in = gdf_nodes.sjoin(gpd.GeoDataFrame(geometry=gdf_locations.buffer(30)))\\nnodes_in = nodes_in.drop_duplicates(subset='id').reset_index(drop=True)\\nnode_list = list(nodes_in.id)\\nnode_list \""
      ]
     },
     "execution_count": 221,
     "metadata": {},
     "output_type": "execute_result"
    }
   ],
   "source": [
    "\"\"\" nodes_in = gdf_nodes.sjoin(gpd.GeoDataFrame(geometry=gdf_locations.buffer(30)))\n",
    "nodes_in = nodes_in.drop_duplicates(subset='id').reset_index(drop=True)\n",
    "node_list = list(nodes_in.id)\n",
    "node_list \"\"\""
   ]
  },
  {
   "cell_type": "code",
   "execution_count": 222,
   "metadata": {},
   "outputs": [
    {
     "data": {
      "text/html": [
       "<div>\n",
       "<style scoped>\n",
       "    .dataframe tbody tr th:only-of-type {\n",
       "        vertical-align: middle;\n",
       "    }\n",
       "\n",
       "    .dataframe tbody tr th {\n",
       "        vertical-align: top;\n",
       "    }\n",
       "\n",
       "    .dataframe thead th {\n",
       "        text-align: right;\n",
       "    }\n",
       "</style>\n",
       "<table border=\"1\" class=\"dataframe\">\n",
       "  <thead>\n",
       "    <tr style=\"text-align: right;\">\n",
       "      <th></th>\n",
       "      <th>id</th>\n",
       "      <th>node_id</th>\n",
       "      <th>geometry</th>\n",
       "    </tr>\n",
       "  </thead>\n",
       "  <tbody>\n",
       "    <tr>\n",
       "      <th>0</th>\n",
       "      <td>loc_0</td>\n",
       "      <td>n_5</td>\n",
       "      <td>POLYGON ((-6546874.064 -3184160.022, -6546867....</td>\n",
       "    </tr>\n",
       "    <tr>\n",
       "      <th>1</th>\n",
       "      <td>loc_1</td>\n",
       "      <td>n_58</td>\n",
       "      <td>POLYGON ((-6546624.137 -3183661.595, -6546603....</td>\n",
       "    </tr>\n",
       "  </tbody>\n",
       "</table>\n",
       "</div>"
      ],
      "text/plain": [
       "      id node_id                                           geometry\n",
       "0  loc_0     n_5  POLYGON ((-6546874.064 -3184160.022, -6546867....\n",
       "1  loc_1    n_58  POLYGON ((-6546624.137 -3183661.595, -6546603...."
      ]
     },
     "execution_count": 222,
     "metadata": {},
     "output_type": "execute_result"
    }
   ],
   "source": [
    "def closest_nodes_to_sources(gdf_sources, gdf_nodes):\n",
    "    gdf_amenities = gpd.sjoin_nearest(gdf_sources, gdf_nodes, how='inner')\n",
    "    #gdf_amenities.rename(columns={'id_left':'id', 'id_right':'node_id'}, inplace=True)\n",
    "    gdf_amenities = gdf_amenities[['id', 'node_id', 'geometry']]\n",
    "    return gdf_amenities\n",
    "\n",
    "gdf_locations = closest_nodes_to_sources(gdf_locations, gdf_nodes)\n",
    "gdf_locations"
   ]
  },
  {
   "cell_type": "code",
   "execution_count": 223,
   "metadata": {},
   "outputs": [],
   "source": [
    "from netana.tools.calc_tools import split_line_by_point\n",
    "\n",
    "def calculate_travel_time_to_all_nodes(graph, f_weight, loc_node_list):\n",
    "    result = nx.multi_source_dijkstra_path_length(graph, \n",
    "                                        sources = loc_node_list, \n",
    "                                        cutoff=None, \n",
    "                                        weight=f_weight)\n",
    "    df = pd.DataFrame(result.items(), columns=['node_id', 'weight_to'])\n",
    "    return df\n",
    "\n",
    "def asign_weight_values_to_nodes_and_edges(gdf_nodes, gdf_edges, df_weight):\n",
    "    df_nodes= gdf_nodes.merge(df_weight[['node_id', 'weight_to']], on='node_id', how='left')\n",
    "    df_nodes= df_nodes[['node_id', 'geometry', 'weight_to']]\n",
    "\n",
    "    df_edges = gdf_edges.merge(df_weight[['node_id', 'weight_to']], left_on='nd_st', right_on='node_id', how='left')\n",
    "    df_edges = df_edges.merge(df_weight[['node_id', 'weight_to']], left_on='nd_en', right_on='node_id', how='left')\n",
    "    df_edges.rename(columns={'weight_to_x':'weight_start', 'weight_to_y':'weight_end'}, inplace=True)\n",
    "    df_edges.drop(columns=['node_id_x', 'node_id_y'], inplace=True)\n",
    "\n",
    "    return df_nodes, df_edges\n",
    "\n",
    "def create_service_area_by_weight_limit(gdf_edges, weight_limit):\n",
    "\n",
    "    gdf_edges['cat_limit'] = 'out'\n",
    "    gdf_edges.loc[(gdf_edges.weight_start < weight_limit) & (gdf_edges.weight_end < weight_limit), 'cat_limit'] = 'ok'\n",
    "    df_edges_ok = gdf_edges.loc[gdf_edges.cat_limit == 'ok'].reset_index(drop=True)\n",
    "   \n",
    "    df_edges__from_start = gdf_edges[(gdf_edges.weight_start < weight_limit) & (gdf_edges.weight_end > weight_limit)].reset_index(drop=True)\n",
    "    if len(df_edges__from_start) > 0:\n",
    "        df_edges__from_start['cat_limit'] = 'start'\n",
    "        df_edges__from_start['weight_delta'] = (weight_limit - df_edges__from_start['weight_start']) / (df_edges__from_start['weight_end'] - df_edges__from_start['weight_start'])\n",
    "        df_edges__from_start['geometry'] = df_edges__from_start.apply(lambda row: split_line_by_point(row.geometry, row.weight_delta, 'start'), axis=1)\n",
    "\n",
    "    df_edges_from_end = gdf_edges[(gdf_edges.weight_start > weight_limit) & (gdf_edges.weight_end < weight_limit)].reset_index(drop=True)\n",
    "    if len(df_edges_from_end) > 0:\n",
    "        df_edges_from_end['cat_limit'] = 'end'\n",
    "        df_edges_from_end['weight_delta'] = (weight_limit - df_edges_from_end['weight_end']) / (df_edges_from_end['weight_start'] - df_edges_from_end['weight_end'])\n",
    "        df_edges_from_end['geometry'] = df_edges_from_end.apply(lambda row: split_line_by_point(row.geometry, row.weight_delta, 'end'), axis=1)\n",
    "\n",
    "    df_edges_weight_limit = pd.concat([df_edges_ok, df_edges__from_start, df_edges_from_end])\n",
    "\n",
    "    df_edges_weight_limit.drop(columns=['cat_limit', 'weight_delta'], inplace=True)\n",
    "    df_edges_weight_limit['weight_limit'] = weight_limit\n",
    "    return df_edges_weight_limit\n",
    "\n",
    "def calculate_service_edges(graph, gdf_nodes, gdf_edges, f_weight, v_weight_limit, gdf_locations):\n",
    "    list_source_nodes = list(gdf_locations['node_id'])\n",
    "    df_weight_times = calculate_travel_time_to_all_nodes(graph, f_weight, list_source_nodes)\n",
    "    gdf_nodes, gdf_edges = asign_weight_values_to_nodes_and_edges(gdf_nodes, gdf_edges, df_weight_times)\n",
    "    df_edges_weight_limit = create_service_area_by_weight_limit(gdf_edges, v_weight_limit)\n",
    "    return df_edges_weight_limit"
   ]
  },
  {
   "cell_type": "code",
   "execution_count": 227,
   "metadata": {},
   "outputs": [
    {
     "name": "stderr",
     "output_type": "stream",
     "text": [
      "C:\\Users\\Compumar\\AppData\\Local\\Temp\\ipykernel_16300\\3682175214.py:2: UserWarning: Column names longer than 10 characters will be truncated when saved to ESRI Shapefile.\n",
      "  df_edges_cost_limit_5_min.to_file(\"./notebook/zz_edges-5min.shp\")\n"
     ]
    },
    {
     "data": {
      "text/html": [
       "<div>\n",
       "<style scoped>\n",
       "    .dataframe tbody tr th:only-of-type {\n",
       "        vertical-align: middle;\n",
       "    }\n",
       "\n",
       "    .dataframe tbody tr th {\n",
       "        vertical-align: top;\n",
       "    }\n",
       "\n",
       "    .dataframe thead th {\n",
       "        text-align: right;\n",
       "    }\n",
       "</style>\n",
       "<table border=\"1\" class=\"dataframe\">\n",
       "  <thead>\n",
       "    <tr style=\"text-align: right;\">\n",
       "      <th></th>\n",
       "      <th>id</th>\n",
       "      <th>nd_st</th>\n",
       "      <th>nd_en</th>\n",
       "      <th>weight</th>\n",
       "      <th>geometry</th>\n",
       "      <th>weight_start</th>\n",
       "      <th>weight_end</th>\n",
       "      <th>weight_limit</th>\n",
       "    </tr>\n",
       "  </thead>\n",
       "  <tbody>\n",
       "    <tr>\n",
       "      <th>0</th>\n",
       "      <td>e_19</td>\n",
       "      <td>n_21</td>\n",
       "      <td>n_17</td>\n",
       "      <td>11.859794</td>\n",
       "      <td>LINESTRING (-6546767.058 -3184186.989, -654677...</td>\n",
       "      <td>119.307678</td>\n",
       "      <td>107.447884</td>\n",
       "      <td>150</td>\n",
       "    </tr>\n",
       "    <tr>\n",
       "      <th>1</th>\n",
       "      <td>e_20</td>\n",
       "      <td>n_17</td>\n",
       "      <td>n_5</td>\n",
       "      <td>107.447884</td>\n",
       "      <td>LINESTRING (-6546778.279 -3184183.149, -654688...</td>\n",
       "      <td>107.447884</td>\n",
       "      <td>0.000000</td>\n",
       "      <td>150</td>\n",
       "    </tr>\n",
       "    <tr>\n",
       "      <th>2</th>\n",
       "      <td>e_33</td>\n",
       "      <td>n_5</td>\n",
       "      <td>n_19</td>\n",
       "      <td>147.965708</td>\n",
       "      <td>LINESTRING (-6546884.300 -3184165.694, -654685...</td>\n",
       "      <td>0.000000</td>\n",
       "      <td>147.965708</td>\n",
       "      <td>150</td>\n",
       "    </tr>\n",
       "    <tr>\n",
       "      <th>3</th>\n",
       "      <td>e_38</td>\n",
       "      <td>n_48</td>\n",
       "      <td>n_23</td>\n",
       "      <td>13.488133</td>\n",
       "      <td>LINESTRING (-6546458.469 -3183690.815, -654646...</td>\n",
       "      <td>149.138383</td>\n",
       "      <td>135.650251</td>\n",
       "      <td>150</td>\n",
       "    </tr>\n",
       "    <tr>\n",
       "      <th>4</th>\n",
       "      <td>e_39</td>\n",
       "      <td>n_23</td>\n",
       "      <td>n_33</td>\n",
       "      <td>12.025383</td>\n",
       "      <td>LINESTRING (-6546464.637 -3183702.811, -654646...</td>\n",
       "      <td>135.650251</td>\n",
       "      <td>147.675633</td>\n",
       "      <td>150</td>\n",
       "    </tr>\n",
       "  </tbody>\n",
       "</table>\n",
       "</div>"
      ],
      "text/plain": [
       "     id nd_st nd_en      weight  \\\n",
       "0  e_19  n_21  n_17   11.859794   \n",
       "1  e_20  n_17   n_5  107.447884   \n",
       "2  e_33   n_5  n_19  147.965708   \n",
       "3  e_38  n_48  n_23   13.488133   \n",
       "4  e_39  n_23  n_33   12.025383   \n",
       "\n",
       "                                            geometry  weight_start  \\\n",
       "0  LINESTRING (-6546767.058 -3184186.989, -654677...    119.307678   \n",
       "1  LINESTRING (-6546778.279 -3184183.149, -654688...    107.447884   \n",
       "2  LINESTRING (-6546884.300 -3184165.694, -654685...      0.000000   \n",
       "3  LINESTRING (-6546458.469 -3183690.815, -654646...    149.138383   \n",
       "4  LINESTRING (-6546464.637 -3183702.811, -654646...    135.650251   \n",
       "\n",
       "   weight_end  weight_limit  \n",
       "0  107.447884           150  \n",
       "1    0.000000           150  \n",
       "2  147.965708           150  \n",
       "3  135.650251           150  \n",
       "4  147.675633           150  "
      ]
     },
     "execution_count": 227,
     "metadata": {},
     "output_type": "execute_result"
    }
   ],
   "source": [
    "df_edges_cost_limit_5_min = calculate_service_edges(G, gdf_nodes, gdf_edges, 'weight', 150, gdf_locations)\n",
    "df_edges_cost_limit_5_min.to_file(\"./notebook/zz_edges-5min.shp\")\n",
    "df_edges_cost_limit_5_min.head()"
   ]
  },
  {
   "cell_type": "code",
   "execution_count": 228,
   "metadata": {},
   "outputs": [
    {
     "name": "stderr",
     "output_type": "stream",
     "text": [
      "C:\\Users\\Compumar\\AppData\\Local\\Temp\\ipykernel_16300\\2776910315.py:3: UserWarning: Column names longer than 10 characters will be truncated when saved to ESRI Shapefile.\n",
      "  gdf_buffer.to_file(\"./notebook/zz_buffer.shp\")\n"
     ]
    },
    {
     "data": {
      "text/html": [
       "<div>\n",
       "<style scoped>\n",
       "    .dataframe tbody tr th:only-of-type {\n",
       "        vertical-align: middle;\n",
       "    }\n",
       "\n",
       "    .dataframe tbody tr th {\n",
       "        vertical-align: top;\n",
       "    }\n",
       "\n",
       "    .dataframe thead th {\n",
       "        text-align: right;\n",
       "    }\n",
       "</style>\n",
       "<table border=\"1\" class=\"dataframe\">\n",
       "  <thead>\n",
       "    <tr style=\"text-align: right;\">\n",
       "      <th></th>\n",
       "      <th>geometry</th>\n",
       "      <th>id</th>\n",
       "      <th>nd_st</th>\n",
       "      <th>nd_en</th>\n",
       "      <th>weight</th>\n",
       "      <th>weight_start</th>\n",
       "      <th>weight_end</th>\n",
       "      <th>weight_limit</th>\n",
       "    </tr>\n",
       "  </thead>\n",
       "  <tbody>\n",
       "    <tr>\n",
       "      <th>0</th>\n",
       "      <td>MULTIPOLYGON (((-6546721.650 -3183661.908, -65...</td>\n",
       "      <td>e_19</td>\n",
       "      <td>n_21</td>\n",
       "      <td>n_17</td>\n",
       "      <td>11.859794</td>\n",
       "      <td>119.307678</td>\n",
       "      <td>107.447884</td>\n",
       "      <td>150</td>\n",
       "    </tr>\n",
       "  </tbody>\n",
       "</table>\n",
       "</div>"
      ],
      "text/plain": [
       "                                            geometry    id nd_st nd_en  \\\n",
       "0  MULTIPOLYGON (((-6546721.650 -3183661.908, -65...  e_19  n_21  n_17   \n",
       "\n",
       "      weight  weight_start  weight_end  weight_limit  \n",
       "0  11.859794    119.307678  107.447884           150  "
      ]
     },
     "execution_count": 228,
     "metadata": {},
     "output_type": "execute_result"
    }
   ],
   "source": [
    "from netana.service_analysis.service_area_analysis import create_service_area\n",
    "gdf_buffer = create_service_area(df_edges_cost_limit_5_min, 5, 100)\n",
    "gdf_buffer.to_file(\"./notebook/zz_buffer.shp\")\n",
    "gdf_buffer"
   ]
  },
  {
   "cell_type": "code",
   "execution_count": 226,
   "metadata": {},
   "outputs": [
    {
     "data": {
      "text/html": [
       "<div>\n",
       "<style scoped>\n",
       "    .dataframe tbody tr th:only-of-type {\n",
       "        vertical-align: middle;\n",
       "    }\n",
       "\n",
       "    .dataframe tbody tr th {\n",
       "        vertical-align: top;\n",
       "    }\n",
       "\n",
       "    .dataframe thead th {\n",
       "        text-align: right;\n",
       "    }\n",
       "</style>\n",
       "<table border=\"1\" class=\"dataframe\">\n",
       "  <thead>\n",
       "    <tr style=\"text-align: right;\">\n",
       "      <th></th>\n",
       "      <th>geometry</th>\n",
       "      <th>id</th>\n",
       "      <th>nd_st</th>\n",
       "      <th>nd_en</th>\n",
       "      <th>weight</th>\n",
       "      <th>weight_start</th>\n",
       "      <th>weight_end</th>\n",
       "      <th>weight_limit</th>\n",
       "    </tr>\n",
       "  </thead>\n",
       "  <tbody>\n",
       "    <tr>\n",
       "      <th>0</th>\n",
       "      <td>MULTIPOLYGON (((-6546721.650 -3183661.908, -65...</td>\n",
       "      <td>e_19</td>\n",
       "      <td>n_21</td>\n",
       "      <td>n_17</td>\n",
       "      <td>11.859794</td>\n",
       "      <td>119.307678</td>\n",
       "      <td>107.447884</td>\n",
       "      <td>150</td>\n",
       "    </tr>\n",
       "  </tbody>\n",
       "</table>\n",
       "</div>"
      ],
      "text/plain": [
       "                                            geometry    id nd_st nd_en  \\\n",
       "0  MULTIPOLYGON (((-6546721.650 -3183661.908, -65...  e_19  n_21  n_17   \n",
       "\n",
       "      weight  weight_start  weight_end  weight_limit  \n",
       "0  11.859794    119.307678  107.447884           150  "
      ]
     },
     "execution_count": 226,
     "metadata": {},
     "output_type": "execute_result"
    }
   ],
   "source": []
  },
  {
   "cell_type": "code",
   "execution_count": null,
   "metadata": {},
   "outputs": [],
   "source": []
  }
 ],
 "metadata": {
  "kernelspec": {
   "display_name": "envNetworkAnalysis",
   "language": "python",
   "name": "python3"
  },
  "language_info": {
   "codemirror_mode": {
    "name": "ipython",
    "version": 3
   },
   "file_extension": ".py",
   "mimetype": "text/x-python",
   "name": "python",
   "nbconvert_exporter": "python",
   "pygments_lexer": "ipython3",
   "version": "3.11.4"
  },
  "orig_nbformat": 4,
  "vscode": {
   "interpreter": {
    "hash": "3c4199a643ad11ad70cd3b60c960c931e44d804da5b3b25f48c0d40beb350406"
   }
  }
 },
 "nbformat": 4,
 "nbformat_minor": 2
}
